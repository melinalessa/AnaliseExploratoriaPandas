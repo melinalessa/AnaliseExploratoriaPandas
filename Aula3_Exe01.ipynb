{
  "nbformat": 4,
  "nbformat_minor": 0,
  "metadata": {
    "colab": {
      "provenance": [],
      "authorship_tag": "ABX9TyOLSB/Nzz60cpE0Z+43ZS8w",
      "include_colab_link": true
    },
    "kernelspec": {
      "name": "python3",
      "display_name": "Python 3"
    },
    "language_info": {
      "name": "python"
    }
  },
  "cells": [
    {
      "cell_type": "markdown",
      "metadata": {
        "id": "view-in-github",
        "colab_type": "text"
      },
      "source": [
        "<a href=\"https://colab.research.google.com/github/melinalessa/AnaliseExploratoriaPandas/blob/main/Aula3_Exe01.ipynb\" target=\"_parent\"><img src=\"https://colab.research.google.com/assets/colab-badge.svg\" alt=\"Open In Colab\"/></a>"
      ]
    },
    {
      "cell_type": "markdown",
      "source": [
        "Importação da Biblioteca"
      ],
      "metadata": {
        "id": "8_BO_9iirFGS"
      }
    },
    {
      "cell_type": "code",
      "execution_count": 12,
      "metadata": {
        "id": "OCtq4xCQqXpr"
      },
      "outputs": [],
      "source": [
        "import pandas as pd"
      ]
    },
    {
      "cell_type": "markdown",
      "source": [
        "Criar o banco de dados"
      ],
      "metadata": {
        "id": "U9fWTMB5snR8"
      }
    },
    {
      "cell_type": "code",
      "source": [
        "df= pd.read_csv('distribuicao_respiradores_BR.csv', sep= \";\")"
      ],
      "metadata": {
        "id": "Q2l4KwX6sJYV"
      },
      "execution_count": 13,
      "outputs": []
    },
    {
      "cell_type": "markdown",
      "source": [
        "Analisar as 10 primeiras linhas"
      ],
      "metadata": {
        "id": "P1ysIMKEsadz"
      }
    },
    {
      "cell_type": "code",
      "source": [
        "df.head(n=10)"
      ],
      "metadata": {
        "colab": {
          "base_uri": "https://localhost:8080/",
          "height": 884
        },
        "id": "eSKpnjQEseHs",
        "outputId": "d3539cd1-9b30-46cc-de03-70ddd128ddcd"
      },
      "execution_count": 14,
      "outputs": [
        {
          "output_type": "execute_result",
          "data": {
            "text/plain": [
              "         DATA FORNECEDOR         DESTINO ESTADO/MUNICIPIO        TIPO  \\\n",
              "0  19/04/2020     VYAIRE  RIO DE JANEIRO           ESTADO         UTI   \n",
              "1  22/04/2020     VYAIRE  RIO DE JANEIRO           ESTADO         UTI   \n",
              "2  08/05/2020   MAGNAMED  RIO DE JANEIRO           ESTADO         UTI   \n",
              "3  08/05/2020        KTK  RIO DE JANEIRO           ESTADO         UTI   \n",
              "4  09/05/2020   LEISTUNG  RIO DE JANEIRO           ESTADO         UTI   \n",
              "5  09/05/2020     VYAIRE  RIO DE JANEIRO           ESTADO         UTI   \n",
              "6  09/05/2020     VYAIRE  RIO DE JANEIRO           ESTADO         UTI   \n",
              "7  09/05/2020   MAGNAMED  RIO DE JANEIRO           ESTADO         UTI   \n",
              "8  09/05/2020   MAGNAMED  RIO DE JANEIRO           ESTADO  TRANSPORTE   \n",
              "9  09/05/2020   MAGNAMED  RIO DE JANEIRO           ESTADO         UTI   \n",
              "\n",
              "   QUANTIDADE    VALOR                                       DESTINATARIO  UF  \n",
              "0          40  2400000  ALMOXARIFADO ESTADUAL DE MEDICAMENTOS - RIO DE...  RJ  \n",
              "1          20  1200000    LABORATÓRIO QUÍMICO FARMACÊUTICO DE AERONÁUTICA  RJ  \n",
              "2          25  1500000  ALMOXARIFADO ESTADUAL DE MEDICAMENTOS - RIO DE...  RJ  \n",
              "3          15   900000  ALMOXARIFADO ESTADUAL DE MEDICAMENTOS - RIO DE...  RJ  \n",
              "4           6   360000  ALMOXARIFADO ESTADUAL DE MEDICAMENTOS - RIO DE...  RJ  \n",
              "5           1    60000  ALMOXARIFADO ESTADUAL DE MEDICAMENTOS - RIO DE...  RJ  \n",
              "6          30  1800000  ALMOXARIFADO ESTADUAL DE MEDICAMENTOS - RIO DE...  RJ  \n",
              "7           8   480000  ALMOXARIFADO ESTADUAL DE MEDICAMENTOS - RIO DE...  RJ  \n",
              "8           4   193160  ALMOXARIFADO ESTADUAL DE MEDICAMENTOS - RIO DE...  RJ  \n",
              "9           1    60000  ALMOXARIFADO ESTADUAL DE MEDICAMENTOS - RIO DE...  RJ  "
            ],
            "text/html": [
              "\n",
              "  <div id=\"df-4f4ce6b5-0e28-4876-822f-9f9e18a8b31c\" class=\"colab-df-container\">\n",
              "    <div>\n",
              "<style scoped>\n",
              "    .dataframe tbody tr th:only-of-type {\n",
              "        vertical-align: middle;\n",
              "    }\n",
              "\n",
              "    .dataframe tbody tr th {\n",
              "        vertical-align: top;\n",
              "    }\n",
              "\n",
              "    .dataframe thead th {\n",
              "        text-align: right;\n",
              "    }\n",
              "</style>\n",
              "<table border=\"1\" class=\"dataframe\">\n",
              "  <thead>\n",
              "    <tr style=\"text-align: right;\">\n",
              "      <th></th>\n",
              "      <th>DATA</th>\n",
              "      <th>FORNECEDOR</th>\n",
              "      <th>DESTINO</th>\n",
              "      <th>ESTADO/MUNICIPIO</th>\n",
              "      <th>TIPO</th>\n",
              "      <th>QUANTIDADE</th>\n",
              "      <th>VALOR</th>\n",
              "      <th>DESTINATARIO</th>\n",
              "      <th>UF</th>\n",
              "    </tr>\n",
              "  </thead>\n",
              "  <tbody>\n",
              "    <tr>\n",
              "      <th>0</th>\n",
              "      <td>19/04/2020</td>\n",
              "      <td>VYAIRE</td>\n",
              "      <td>RIO DE JANEIRO</td>\n",
              "      <td>ESTADO</td>\n",
              "      <td>UTI</td>\n",
              "      <td>40</td>\n",
              "      <td>2400000</td>\n",
              "      <td>ALMOXARIFADO ESTADUAL DE MEDICAMENTOS - RIO DE...</td>\n",
              "      <td>RJ</td>\n",
              "    </tr>\n",
              "    <tr>\n",
              "      <th>1</th>\n",
              "      <td>22/04/2020</td>\n",
              "      <td>VYAIRE</td>\n",
              "      <td>RIO DE JANEIRO</td>\n",
              "      <td>ESTADO</td>\n",
              "      <td>UTI</td>\n",
              "      <td>20</td>\n",
              "      <td>1200000</td>\n",
              "      <td>LABORATÓRIO QUÍMICO FARMACÊUTICO DE AERONÁUTICA</td>\n",
              "      <td>RJ</td>\n",
              "    </tr>\n",
              "    <tr>\n",
              "      <th>2</th>\n",
              "      <td>08/05/2020</td>\n",
              "      <td>MAGNAMED</td>\n",
              "      <td>RIO DE JANEIRO</td>\n",
              "      <td>ESTADO</td>\n",
              "      <td>UTI</td>\n",
              "      <td>25</td>\n",
              "      <td>1500000</td>\n",
              "      <td>ALMOXARIFADO ESTADUAL DE MEDICAMENTOS - RIO DE...</td>\n",
              "      <td>RJ</td>\n",
              "    </tr>\n",
              "    <tr>\n",
              "      <th>3</th>\n",
              "      <td>08/05/2020</td>\n",
              "      <td>KTK</td>\n",
              "      <td>RIO DE JANEIRO</td>\n",
              "      <td>ESTADO</td>\n",
              "      <td>UTI</td>\n",
              "      <td>15</td>\n",
              "      <td>900000</td>\n",
              "      <td>ALMOXARIFADO ESTADUAL DE MEDICAMENTOS - RIO DE...</td>\n",
              "      <td>RJ</td>\n",
              "    </tr>\n",
              "    <tr>\n",
              "      <th>4</th>\n",
              "      <td>09/05/2020</td>\n",
              "      <td>LEISTUNG</td>\n",
              "      <td>RIO DE JANEIRO</td>\n",
              "      <td>ESTADO</td>\n",
              "      <td>UTI</td>\n",
              "      <td>6</td>\n",
              "      <td>360000</td>\n",
              "      <td>ALMOXARIFADO ESTADUAL DE MEDICAMENTOS - RIO DE...</td>\n",
              "      <td>RJ</td>\n",
              "    </tr>\n",
              "    <tr>\n",
              "      <th>5</th>\n",
              "      <td>09/05/2020</td>\n",
              "      <td>VYAIRE</td>\n",
              "      <td>RIO DE JANEIRO</td>\n",
              "      <td>ESTADO</td>\n",
              "      <td>UTI</td>\n",
              "      <td>1</td>\n",
              "      <td>60000</td>\n",
              "      <td>ALMOXARIFADO ESTADUAL DE MEDICAMENTOS - RIO DE...</td>\n",
              "      <td>RJ</td>\n",
              "    </tr>\n",
              "    <tr>\n",
              "      <th>6</th>\n",
              "      <td>09/05/2020</td>\n",
              "      <td>VYAIRE</td>\n",
              "      <td>RIO DE JANEIRO</td>\n",
              "      <td>ESTADO</td>\n",
              "      <td>UTI</td>\n",
              "      <td>30</td>\n",
              "      <td>1800000</td>\n",
              "      <td>ALMOXARIFADO ESTADUAL DE MEDICAMENTOS - RIO DE...</td>\n",
              "      <td>RJ</td>\n",
              "    </tr>\n",
              "    <tr>\n",
              "      <th>7</th>\n",
              "      <td>09/05/2020</td>\n",
              "      <td>MAGNAMED</td>\n",
              "      <td>RIO DE JANEIRO</td>\n",
              "      <td>ESTADO</td>\n",
              "      <td>UTI</td>\n",
              "      <td>8</td>\n",
              "      <td>480000</td>\n",
              "      <td>ALMOXARIFADO ESTADUAL DE MEDICAMENTOS - RIO DE...</td>\n",
              "      <td>RJ</td>\n",
              "    </tr>\n",
              "    <tr>\n",
              "      <th>8</th>\n",
              "      <td>09/05/2020</td>\n",
              "      <td>MAGNAMED</td>\n",
              "      <td>RIO DE JANEIRO</td>\n",
              "      <td>ESTADO</td>\n",
              "      <td>TRANSPORTE</td>\n",
              "      <td>4</td>\n",
              "      <td>193160</td>\n",
              "      <td>ALMOXARIFADO ESTADUAL DE MEDICAMENTOS - RIO DE...</td>\n",
              "      <td>RJ</td>\n",
              "    </tr>\n",
              "    <tr>\n",
              "      <th>9</th>\n",
              "      <td>09/05/2020</td>\n",
              "      <td>MAGNAMED</td>\n",
              "      <td>RIO DE JANEIRO</td>\n",
              "      <td>ESTADO</td>\n",
              "      <td>UTI</td>\n",
              "      <td>1</td>\n",
              "      <td>60000</td>\n",
              "      <td>ALMOXARIFADO ESTADUAL DE MEDICAMENTOS - RIO DE...</td>\n",
              "      <td>RJ</td>\n",
              "    </tr>\n",
              "  </tbody>\n",
              "</table>\n",
              "</div>\n",
              "    <div class=\"colab-df-buttons\">\n",
              "\n",
              "  <div class=\"colab-df-container\">\n",
              "    <button class=\"colab-df-convert\" onclick=\"convertToInteractive('df-4f4ce6b5-0e28-4876-822f-9f9e18a8b31c')\"\n",
              "            title=\"Convert this dataframe to an interactive table.\"\n",
              "            style=\"display:none;\">\n",
              "\n",
              "  <svg xmlns=\"http://www.w3.org/2000/svg\" height=\"24px\" viewBox=\"0 -960 960 960\">\n",
              "    <path d=\"M120-120v-720h720v720H120Zm60-500h600v-160H180v160Zm220 220h160v-160H400v160Zm0 220h160v-160H400v160ZM180-400h160v-160H180v160Zm440 0h160v-160H620v160ZM180-180h160v-160H180v160Zm440 0h160v-160H620v160Z\"/>\n",
              "  </svg>\n",
              "    </button>\n",
              "\n",
              "  <style>\n",
              "    .colab-df-container {\n",
              "      display:flex;\n",
              "      gap: 12px;\n",
              "    }\n",
              "\n",
              "    .colab-df-convert {\n",
              "      background-color: #E8F0FE;\n",
              "      border: none;\n",
              "      border-radius: 50%;\n",
              "      cursor: pointer;\n",
              "      display: none;\n",
              "      fill: #1967D2;\n",
              "      height: 32px;\n",
              "      padding: 0 0 0 0;\n",
              "      width: 32px;\n",
              "    }\n",
              "\n",
              "    .colab-df-convert:hover {\n",
              "      background-color: #E2EBFA;\n",
              "      box-shadow: 0px 1px 2px rgba(60, 64, 67, 0.3), 0px 1px 3px 1px rgba(60, 64, 67, 0.15);\n",
              "      fill: #174EA6;\n",
              "    }\n",
              "\n",
              "    .colab-df-buttons div {\n",
              "      margin-bottom: 4px;\n",
              "    }\n",
              "\n",
              "    [theme=dark] .colab-df-convert {\n",
              "      background-color: #3B4455;\n",
              "      fill: #D2E3FC;\n",
              "    }\n",
              "\n",
              "    [theme=dark] .colab-df-convert:hover {\n",
              "      background-color: #434B5C;\n",
              "      box-shadow: 0px 1px 3px 1px rgba(0, 0, 0, 0.15);\n",
              "      filter: drop-shadow(0px 1px 2px rgba(0, 0, 0, 0.3));\n",
              "      fill: #FFFFFF;\n",
              "    }\n",
              "  </style>\n",
              "\n",
              "    <script>\n",
              "      const buttonEl =\n",
              "        document.querySelector('#df-4f4ce6b5-0e28-4876-822f-9f9e18a8b31c button.colab-df-convert');\n",
              "      buttonEl.style.display =\n",
              "        google.colab.kernel.accessAllowed ? 'block' : 'none';\n",
              "\n",
              "      async function convertToInteractive(key) {\n",
              "        const element = document.querySelector('#df-4f4ce6b5-0e28-4876-822f-9f9e18a8b31c');\n",
              "        const dataTable =\n",
              "          await google.colab.kernel.invokeFunction('convertToInteractive',\n",
              "                                                    [key], {});\n",
              "        if (!dataTable) return;\n",
              "\n",
              "        const docLinkHtml = 'Like what you see? Visit the ' +\n",
              "          '<a target=\"_blank\" href=https://colab.research.google.com/notebooks/data_table.ipynb>data table notebook</a>'\n",
              "          + ' to learn more about interactive tables.';\n",
              "        element.innerHTML = '';\n",
              "        dataTable['output_type'] = 'display_data';\n",
              "        await google.colab.output.renderOutput(dataTable, element);\n",
              "        const docLink = document.createElement('div');\n",
              "        docLink.innerHTML = docLinkHtml;\n",
              "        element.appendChild(docLink);\n",
              "      }\n",
              "    </script>\n",
              "  </div>\n",
              "\n",
              "\n",
              "<div id=\"df-8fe2479a-cdb9-46ce-8949-ce0be6b00a66\">\n",
              "  <button class=\"colab-df-quickchart\" onclick=\"quickchart('df-8fe2479a-cdb9-46ce-8949-ce0be6b00a66')\"\n",
              "            title=\"Suggest charts.\"\n",
              "            style=\"display:none;\">\n",
              "\n",
              "<svg xmlns=\"http://www.w3.org/2000/svg\" height=\"24px\"viewBox=\"0 0 24 24\"\n",
              "     width=\"24px\">\n",
              "    <g>\n",
              "        <path d=\"M19 3H5c-1.1 0-2 .9-2 2v14c0 1.1.9 2 2 2h14c1.1 0 2-.9 2-2V5c0-1.1-.9-2-2-2zM9 17H7v-7h2v7zm4 0h-2V7h2v10zm4 0h-2v-4h2v4z\"/>\n",
              "    </g>\n",
              "</svg>\n",
              "  </button>\n",
              "\n",
              "<style>\n",
              "  .colab-df-quickchart {\n",
              "      --bg-color: #E8F0FE;\n",
              "      --fill-color: #1967D2;\n",
              "      --hover-bg-color: #E2EBFA;\n",
              "      --hover-fill-color: #174EA6;\n",
              "      --disabled-fill-color: #AAA;\n",
              "      --disabled-bg-color: #DDD;\n",
              "  }\n",
              "\n",
              "  [theme=dark] .colab-df-quickchart {\n",
              "      --bg-color: #3B4455;\n",
              "      --fill-color: #D2E3FC;\n",
              "      --hover-bg-color: #434B5C;\n",
              "      --hover-fill-color: #FFFFFF;\n",
              "      --disabled-bg-color: #3B4455;\n",
              "      --disabled-fill-color: #666;\n",
              "  }\n",
              "\n",
              "  .colab-df-quickchart {\n",
              "    background-color: var(--bg-color);\n",
              "    border: none;\n",
              "    border-radius: 50%;\n",
              "    cursor: pointer;\n",
              "    display: none;\n",
              "    fill: var(--fill-color);\n",
              "    height: 32px;\n",
              "    padding: 0;\n",
              "    width: 32px;\n",
              "  }\n",
              "\n",
              "  .colab-df-quickchart:hover {\n",
              "    background-color: var(--hover-bg-color);\n",
              "    box-shadow: 0 1px 2px rgba(60, 64, 67, 0.3), 0 1px 3px 1px rgba(60, 64, 67, 0.15);\n",
              "    fill: var(--button-hover-fill-color);\n",
              "  }\n",
              "\n",
              "  .colab-df-quickchart-complete:disabled,\n",
              "  .colab-df-quickchart-complete:disabled:hover {\n",
              "    background-color: var(--disabled-bg-color);\n",
              "    fill: var(--disabled-fill-color);\n",
              "    box-shadow: none;\n",
              "  }\n",
              "\n",
              "  .colab-df-spinner {\n",
              "    border: 2px solid var(--fill-color);\n",
              "    border-color: transparent;\n",
              "    border-bottom-color: var(--fill-color);\n",
              "    animation:\n",
              "      spin 1s steps(1) infinite;\n",
              "  }\n",
              "\n",
              "  @keyframes spin {\n",
              "    0% {\n",
              "      border-color: transparent;\n",
              "      border-bottom-color: var(--fill-color);\n",
              "      border-left-color: var(--fill-color);\n",
              "    }\n",
              "    20% {\n",
              "      border-color: transparent;\n",
              "      border-left-color: var(--fill-color);\n",
              "      border-top-color: var(--fill-color);\n",
              "    }\n",
              "    30% {\n",
              "      border-color: transparent;\n",
              "      border-left-color: var(--fill-color);\n",
              "      border-top-color: var(--fill-color);\n",
              "      border-right-color: var(--fill-color);\n",
              "    }\n",
              "    40% {\n",
              "      border-color: transparent;\n",
              "      border-right-color: var(--fill-color);\n",
              "      border-top-color: var(--fill-color);\n",
              "    }\n",
              "    60% {\n",
              "      border-color: transparent;\n",
              "      border-right-color: var(--fill-color);\n",
              "    }\n",
              "    80% {\n",
              "      border-color: transparent;\n",
              "      border-right-color: var(--fill-color);\n",
              "      border-bottom-color: var(--fill-color);\n",
              "    }\n",
              "    90% {\n",
              "      border-color: transparent;\n",
              "      border-bottom-color: var(--fill-color);\n",
              "    }\n",
              "  }\n",
              "</style>\n",
              "\n",
              "  <script>\n",
              "    async function quickchart(key) {\n",
              "      const quickchartButtonEl =\n",
              "        document.querySelector('#' + key + ' button');\n",
              "      quickchartButtonEl.disabled = true;  // To prevent multiple clicks.\n",
              "      quickchartButtonEl.classList.add('colab-df-spinner');\n",
              "      try {\n",
              "        const charts = await google.colab.kernel.invokeFunction(\n",
              "            'suggestCharts', [key], {});\n",
              "      } catch (error) {\n",
              "        console.error('Error during call to suggestCharts:', error);\n",
              "      }\n",
              "      quickchartButtonEl.classList.remove('colab-df-spinner');\n",
              "      quickchartButtonEl.classList.add('colab-df-quickchart-complete');\n",
              "    }\n",
              "    (() => {\n",
              "      let quickchartButtonEl =\n",
              "        document.querySelector('#df-8fe2479a-cdb9-46ce-8949-ce0be6b00a66 button');\n",
              "      quickchartButtonEl.style.display =\n",
              "        google.colab.kernel.accessAllowed ? 'block' : 'none';\n",
              "    })();\n",
              "  </script>\n",
              "</div>\n",
              "    </div>\n",
              "  </div>\n"
            ]
          },
          "metadata": {},
          "execution_count": 14
        }
      ]
    },
    {
      "cell_type": "markdown",
      "source": [
        "Analisar os tipo de dados"
      ],
      "metadata": {
        "id": "6kc8H1kysskv"
      }
    },
    {
      "cell_type": "code",
      "source": [
        "df.info()"
      ],
      "metadata": {
        "colab": {
          "base_uri": "https://localhost:8080/"
        },
        "id": "Wv1LoTwDsvby",
        "outputId": "25b0cf7f-a0ae-44fa-d259-f8a1d67fbc42"
      },
      "execution_count": 15,
      "outputs": [
        {
          "output_type": "stream",
          "name": "stdout",
          "text": [
            "<class 'pandas.core.frame.DataFrame'>\n",
            "RangeIndex: 1605 entries, 0 to 1604\n",
            "Data columns (total 9 columns):\n",
            " #   Column            Non-Null Count  Dtype \n",
            "---  ------            --------------  ----- \n",
            " 0   DATA              1605 non-null   object\n",
            " 1   FORNECEDOR        1605 non-null   object\n",
            " 2   DESTINO           1605 non-null   object\n",
            " 3   ESTADO/MUNICIPIO  1605 non-null   object\n",
            " 4   TIPO              1605 non-null   object\n",
            " 5   QUANTIDADE        1605 non-null   int64 \n",
            " 6   VALOR             1605 non-null   int64 \n",
            " 7   DESTINATARIO      1605 non-null   object\n",
            " 8   UF                1605 non-null   object\n",
            "dtypes: int64(2), object(7)\n",
            "memory usage: 113.0+ KB\n"
          ]
        }
      ]
    },
    {
      "cell_type": "markdown",
      "source": [
        "Analisar somente as colunas"
      ],
      "metadata": {
        "id": "iIPmB4FKs0eL"
      }
    },
    {
      "cell_type": "code",
      "source": [
        "df.columns"
      ],
      "metadata": {
        "colab": {
          "base_uri": "https://localhost:8080/"
        },
        "id": "kVbvE3yks22S",
        "outputId": "69297655-c5f4-4410-c3c7-664bbb4b25dd"
      },
      "execution_count": 16,
      "outputs": [
        {
          "output_type": "execute_result",
          "data": {
            "text/plain": [
              "Index(['DATA', 'FORNECEDOR', 'DESTINO', 'ESTADO/MUNICIPIO', 'TIPO',\n",
              "       'QUANTIDADE', 'VALOR', 'DESTINATARIO', 'UF'],\n",
              "      dtype='object')"
            ]
          },
          "metadata": {},
          "execution_count": 16
        }
      ]
    },
    {
      "cell_type": "markdown",
      "source": [
        "Selecionar somente uma coluna"
      ],
      "metadata": {
        "id": "LrRFQNSetFNl"
      }
    },
    {
      "cell_type": "code",
      "source": [
        "df['TIPO'].unique()"
      ],
      "metadata": {
        "colab": {
          "base_uri": "https://localhost:8080/"
        },
        "id": "XyohJDT8tHgE",
        "outputId": "eaaad34f-7b27-4ca2-fa9f-42a84fd00f58"
      },
      "execution_count": 17,
      "outputs": [
        {
          "output_type": "execute_result",
          "data": {
            "text/plain": [
              "array(['UTI', 'TRANSPORTE', 'TRANSPORTE USA', 'Transporte'], dtype=object)"
            ]
          },
          "metadata": {},
          "execution_count": 17
        }
      ]
    },
    {
      "cell_type": "markdown",
      "source": [
        "Selecionar somente fornecedores"
      ],
      "metadata": {
        "id": "ur9XCJXRtoct"
      }
    },
    {
      "cell_type": "code",
      "source": [
        "df['FORNECEDOR'].unique()"
      ],
      "metadata": {
        "colab": {
          "base_uri": "https://localhost:8080/"
        },
        "id": "WocVS9iitr4x",
        "outputId": "9a3d51ad-d929-49c3-abee-8813361b5188"
      },
      "execution_count": 19,
      "outputs": [
        {
          "output_type": "execute_result",
          "data": {
            "text/plain": [
              "array(['VYAIRE', 'MAGNAMED', 'KTK', 'LEISTUNG', 'LEISTUNG/VYAIRE',\n",
              "       'KTK/VAYIRE', 'WEG', 'VYAIRE LTV 2200 USA', 'UTI',\n",
              "       'VYAIRE LTV 1200 USA', 'MAGNAMED-REQUISIÇÃO',\n",
              "       'SUZANO/Zhongxun Medical', 'SUZANO/Resmed',\n",
              "       'L C DADDE COM AT INST MAT MEDICO EPP', 'MAGNAMED/REQUISIÇÃO',\n",
              "       'Leistung'], dtype=object)"
            ]
          },
          "metadata": {},
          "execution_count": 19
        }
      ]
    },
    {
      "cell_type": "markdown",
      "source": [
        "Analisar os tipos de dados"
      ],
      "metadata": {
        "id": "PO6QFb4wtyvU"
      }
    },
    {
      "cell_type": "code",
      "source": [
        "df.types"
      ],
      "metadata": {
        "id": "7mgEYzs0t2yj"
      },
      "execution_count": null,
      "outputs": []
    }
  ]
}